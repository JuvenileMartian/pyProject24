{
 "cells": [
  {
   "cell_type": "code",
   "execution_count": 8,
   "id": "897ecaa7-df07-43f8-af81-81e11b171670",
   "metadata": {},
   "outputs": [
    {
     "data": {
      "application/vnd.jupyter.widget-view+json": {
       "model_id": "67c8dd0bbc1a430e86fc3125a17e0e50",
       "version_major": 2,
       "version_minor": 0
      },
      "text/plain": [
       "VBox(children=(FloatSlider(value=5.0, description='Window Size:', max=20.0, min=1.0, step=1.0), Output()))"
      ]
     },
     "execution_count": 8,
     "metadata": {},
     "output_type": "execute_result"
    }
   ],
   "source": [
    "import numpy as np\n",
    "import matplotlib.pyplot as plt\n",
    "from ipywidgets import FloatSlider, VBox, Output\n",
    "\n",
    "# 生成示例数据\n",
    "np.random.seed(42)\n",
    "x = np.linspace(0, 10, 100)\n",
    "y = np.sin(x) + np.random.normal(scale=0.5, size=x.shape)\n",
    "\n",
    "# 创建输出控件\n",
    "output = Output()\n",
    "\n",
    "# 滑动平均函数\n",
    "def moving_average(data, window_size):\n",
    "    return np.convolve(data, np.ones(window_size)/window_size, mode='valid')\n",
    "\n",
    "# 初始化滑块\n",
    "slider = FloatSlider(\n",
    "    value=5,\n",
    "    min=1,\n",
    "    max=20,\n",
    "    step=1,\n",
    "    description='Window Size:',\n",
    ")\n",
    "\n",
    "# 绘制函数\n",
    "def plot_smoothed(change):\n",
    "    window_size = int(slider.value)\n",
    "    \n",
    "    if window_size < 1:\n",
    "        return  # 窗口大小不能小于1\n",
    "\n",
    "    smoothed_y = moving_average(y, window_size)\n",
    "\n",
    "    # 清空之前的绘图\n",
    "    with output:\n",
    "        output.clear_output(wait=True)\n",
    "        plt.figure(figsize=(10, 5))\n",
    "        plt.plot(x, y, label='Original Data', alpha=0.5)\n",
    "        plt.plot(x[:len(smoothed_y)], smoothed_y, label=f'Smoothed (window={window_size})', color='red')\n",
    "        plt.title('Dynamic Smoothing')\n",
    "        plt.legend()\n",
    "        plt.xlabel('X-axis')\n",
    "        plt.ylabel('Y-axis')\n",
    "        plt.grid(True)\n",
    "        plt.show()\n",
    "\n",
    "# 绑定滑块变化事件\n",
    "slider.observe(plot_smoothed, names='value')\n",
    "\n",
    "# 初始绘图\n",
    "plot_smoothed(None)\n",
    "\n",
    "# 显示控件\n",
    "VBox([slider, output])\n"
   ]
  },
  {
   "cell_type": "code",
   "execution_count": null,
   "id": "731aa53f-d5e2-4373-8785-598f787c4a18",
   "metadata": {},
   "outputs": [],
   "source": []
  }
 ],
 "metadata": {
  "kernelspec": {
   "display_name": "Python 3 (ipykernel)",
   "language": "python",
   "name": "python3"
  },
  "language_info": {
   "codemirror_mode": {
    "name": "ipython",
    "version": 3
   },
   "file_extension": ".py",
   "mimetype": "text/x-python",
   "name": "python",
   "nbconvert_exporter": "python",
   "pygments_lexer": "ipython3",
   "version": "3.11.7"
  }
 },
 "nbformat": 4,
 "nbformat_minor": 5
}
