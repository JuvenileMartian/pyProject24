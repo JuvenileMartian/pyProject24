{
 "cells": [
  {
   "cell_type": "markdown",
   "id": "f7c4f655",
   "metadata": {},
   "source": [
    "# $$ Scientific \\text{ } Computing \\text{ } with \\text{ } Python: \\text{ } Group \\text{ } 3 \\text{ } Final \\text{ } Project $$\n",
    "# $$California \\text{ } Mall \\text{ } Customer \\text{ } Sales \\text{ } Analysis$$\n",
    "Due Time: December 11th\n",
    "\n",
    "Name: **Muyang Huang**, **Mian Jiang**\n",
    "\n",
    "Please turn in a report in Jupyter Notebook file containing\n",
    "- Python code with comments\n",
    "- Necessary Markdown write-up"
   ]
  },
  {
   "cell_type": "markdown",
   "id": "43dd4e10-2119-4b48-87b2-83078dc5099c",
   "metadata": {},
   "source": [
    "## 1. Introductions"
   ]
  },
  {
   "cell_type": "code",
   "execution_count": null,
   "id": "3fac506d-9939-46a6-ac46-c64f45efb0d7",
   "metadata": {},
   "outputs": [],
   "source": [
    "# Writing some introductions"
   ]
  },
  {
   "cell_type": "markdown",
   "id": "229c6b1b-6311-4439-af25-94122fa61691",
   "metadata": {},
   "source": [
    "This project aims to analyze and identify trends and insights in customer demographics, sales performance, and mall characteristics for shopping malls in major metropolitan regions across California (San Francisco, Los Angeles, and San Diego). By revealing the distribution and trend of consumption patterns in the area from 2021 to 2023, our findings might further provide valuable decision-making insights for governors and business owners."
   ]
  },
  {
   "cell_type": "markdown",
   "id": "5d4686f1-1c73-4ce5-9044-20d175fd9b5b",
   "metadata": {},
   "source": [
    "## 2. Materials and Methods"
   ]
  },
  {
   "cell_type": "markdown",
   "id": "be429f8a-baf4-4f9b-9fa7-c81e14059df2",
   "metadata": {},
   "source": [
    "### 2.1 Dataset Description\n",
    "\n",
    "California Mall Customer Sales Dataset from https://www.kaggle.com/datasets/captaindatasets/istanbul-mall\n",
    "\n",
    "1.\tSales Data: Contains transaction details such as invoice_no, customer_id, category, quantity, invoice date, price, and shopping_mall. This data allows us to analyze sales trends, product popularity, and mall performance.\n",
    "2.\tCustomer Data: Provides demographic information (customer_id, gender, age, and payment_method) to support customer segmentation and uncover demographic-based spending trends and payment preferences.\n",
    "3.\tShopping Mall Data: Describes mall characteristics like shopping_mall, construction_year, area_sqm, location, and stores_count, enable analyzing how mall attributes (size, age, location) influence customer traffic and sales."
   ]
  },
  {
   "cell_type": "code",
   "execution_count": null,
   "id": "67681788-cb10-471f-976d-0e3e92533a5a",
   "metadata": {},
   "outputs": [],
   "source": [
    "import pandas as pd\n",
    "import numpy as np\n",
    "from datetime import datetime\n",
    "from matplotlib import pyplot as plt\n",
    "import seaborn as sns\n",
    "# import folium\n",
    "# from folium.plugins import HeatMap\n",
    "from scipy import stats\n",
    "from ipyleaflet import Map, Marker, CircleMarker, Popup\n",
    "from ipywidgets import SelectionSlider, VBox, interact, HTML, Label\n",
    "import pandas as pd"
   ]
  },
  {
   "cell_type": "code",
   "execution_count": null,
   "id": "3ddca0ed-2607-4386-a095-5dc4e4b3b0d3",
   "metadata": {},
   "outputs": [],
   "source": [
    "# Loading the datasets\n",
    "sales_data = pd.read_csv('data/sales_data.csv')\n",
    "customer_data = pd.read_csv('data/customer_data.csv')\n",
    "shopping_mall_data = pd.read_csv('data/shopping_mall_data.csv')"
   ]
  },
  {
   "cell_type": "code",
   "execution_count": null,
   "id": "b436ba3f",
   "metadata": {},
   "outputs": [],
   "source": [
    "shopping_mall_data.head()"
   ]
  },
  {
   "cell_type": "code",
   "execution_count": null,
   "id": "645b6b46-5312-4817-95b1-cdc6be571d7f",
   "metadata": {},
   "outputs": [],
   "source": [
    "# Handling Missing Data\n",
    "# Identify missing values\n",
    "print(\"The names of the variables and the corresponding number of missing values in the seles data:\")\n",
    "print(sales_data.isnull().sum())\n",
    "print(\"\")\n",
    "print(\"The names of the variables and the corresponding number of missing values in the customer data:\")\n",
    "print(customer_data.isnull().sum())\n",
    "print(\"\")\n",
    "print(\"The names of the variables and the corresponding number of missing values in the shopping mall data:\")\n",
    "print(shopping_mall_data.isnull().sum())\n",
    "print(\"\")"
   ]
  },
  {
   "cell_type": "code",
   "execution_count": null,
   "id": "a4674672-d6fa-4d1c-88f2-6a6a1957eec1",
   "metadata": {},
   "outputs": [],
   "source": [
    "# Writing some descriptions"
   ]
  },
  {
   "cell_type": "code",
   "execution_count": null,
   "id": "f321033d-7d1b-4922-acb4-ab0855280bf1",
   "metadata": {},
   "outputs": [],
   "source": [
    "# Fill missing numerical values with median\n",
    "customer_data['age'] = customer_data['age'].fillna(customer_data['age'].median())"
   ]
  },
  {
   "cell_type": "code",
   "execution_count": null,
   "id": "83e56773-0dc0-4a20-a3a3-756b7ae94515",
   "metadata": {},
   "outputs": [],
   "source": [
    "# Writing some descriptions"
   ]
  },
  {
   "cell_type": "code",
   "execution_count": null,
   "id": "93c87c01-ab35-4aa9-95bc-4daa873d482a",
   "metadata": {},
   "outputs": [],
   "source": [
    "# Handle outliers using IQR\n",
    "def remove_outliers(df, column):\n",
    "    Q1 = df[column].quantile(0.25)\n",
    "    Q3 = df[column].quantile(0.75)\n",
    "    IQR = Q3 - Q1\n",
    "    lower_bound = Q1 - 1.5 * IQR\n",
    "    upper_bound = Q3 + 1.5 * IQR\n",
    "    return df[(df[column] >= lower_bound) & (df[column] <= upper_bound)]\n",
    "\n",
    "sales_data_without_outliers = remove_outliers(sales_data, 'price')"
   ]
  },
  {
   "cell_type": "code",
   "execution_count": null,
   "id": "41bef57d-09b0-4dce-b6ee-1f55ac7961f0",
   "metadata": {},
   "outputs": [],
   "source": [
    "# Summary of cleaned datasets\n",
    "print(sales_data_without_outliers.info())\n",
    "print(\"\")\n",
    "print(customer_data.info())\n",
    "print(\"\")\n",
    "print(shopping_mall_data.info())\n",
    "print(\"\")"
   ]
  },
  {
   "cell_type": "code",
   "execution_count": null,
   "id": "a8aaba68-250e-4347-bda9-c862512fc9fd",
   "metadata": {},
   "outputs": [],
   "source": [
    "# Use Shapiro-Wilk Test (scipy.stats.shapiro) to test the null hypothesis that the data is normally distributed.\n",
    "# Do we really need that?"
   ]
  },
  {
   "cell_type": "code",
   "execution_count": null,
   "id": "f1a77d45-17d4-43f3-9122-040166e822aa",
   "metadata": {},
   "outputs": [],
   "source": [
    "# Save cleaned datasets\n",
    "sales_data_without_outliers.to_csv('data_cleaned/cleaned_sales_data.csv', index=False)\n",
    "customer_data.to_csv('data_cleaned/cleaned_customer_data.csv', index=False)\n",
    "shopping_mall_data.to_csv('data_cleaned/cleaned_shopping_mall_data.csv', index=False)"
   ]
  },
  {
   "cell_type": "markdown",
   "id": "f3485cd8-8efa-4981-b5ac-a37e0327496f",
   "metadata": {},
   "source": [
    "### Preliminary Visualization\n",
    "\n",
    "#### Daily sales on map"
   ]
  },
  {
   "cell_type": "code",
   "execution_count": null,
   "id": "b173ced6-dfba-4386-bd77-eb5d1ea8edb7",
   "metadata": {},
   "outputs": [],
   "source": [
    "# Exploratory display of the sales data\n",
    "sales_data[\"invoice date\"] = pd.to_datetime(sales_data[\"invoice date\"])\n",
    "sale_date = sales_data.groupby([\"shopping_mall\", \"invoice date\"], as_index=False)[\"price\"].sum()\n",
    "sale_with_coord = pd.merge(sale_date, shopping_mall_data, how='left', on='shopping_mall')[['shopping_mall', 'invoice date', 'price', 'lon', 'lat']]\n",
    "\n",
    "# dates covered by data\n",
    "dates = sorted(sale_with_coord[\"invoice date\"].dt.strftime(\"%Y-%m-%d\").unique())\n",
    "\n",
    "# coordinates of each mall\n",
    "locations = sale_with_coord.groupby('shopping_mall')[[\"lat\", \"lon\"]].first().reset_index()\n",
    "\n",
    "# define map\n",
    "m = Map(center=(36.7783, -119.4179), zoom=6)\n",
    "\n",
    "label = Label(value=f\"Date: 2021-01-01, Friday\")\n",
    "\n",
    "def create_table_html(df):\n",
    "    return df.to_html(index=False, classes='table table-striped')\n",
    "\n",
    "html_table = HTML(value=create_table_html(sale_with_coord[sale_with_coord[\"invoice date\"] == pd.to_datetime('2021-01-01')]))\n",
    "\n",
    "# slider\n",
    "slider_21 = SelectionSlider(\n",
    "    options=dates,\n",
    "    value=dates[0],\n",
    "    description=\"Date:\",\n",
    "    continuous_update=True\n",
    ")\n",
    "\n",
    "circles = {}  # All circles in the map\n",
    "\n",
    "def update_map(selected_date):\n",
    "    \n",
    "    # get data at given date\n",
    "    current_data = sale_with_coord[sale_with_coord[\"invoice date\"] == pd.to_datetime(selected_date)]\n",
    "    for _, row in current_data.iterrows():\n",
    "        x = row[\"shopping_mall\"]\n",
    "        z_value = row[\"price\"]\n",
    "        loc = locations[locations[\"shopping_mall\"] == x]\n",
    "        latitude = loc[\"lat\"].values[0]\n",
    "        longitude = loc[\"lon\"].values[0]\n",
    "\n",
    "        # update circles' radius\n",
    "        if x in circles:\n",
    "            circles[x].radius = int(z_value / 1000)\n",
    "            circles[x].popup.child = HTML(f\"<b>{row['shopping_mall']}</b><br>Total Sales: {row['price']}<br>Scaled:\")\n",
    "        else:\n",
    "            circle = CircleMarker(\n",
    "                location=(latitude, longitude),\n",
    "                radius=int(z_value / 1000),  \n",
    "                color=\"blue\",\n",
    "                fill_color=\"blue\",\n",
    "                fill_opacity=0.7,\n",
    "                #popup=f\"{x}: {z_value}\"\n",
    "            )\n",
    "            popup = Popup(location=(latitude, longitude),\n",
    "                          child=HTML(f\"<b>{row['shopping_mall']}</b><br>Total Sales: {row['price']}<br>Scaled:\"),\n",
    "                          close_button=True)\n",
    "            m.add_layer(circle)\n",
    "            circle.popup = popup\n",
    "            circles[x] = circle\n",
    "\n",
    "\n",
    "# 滑动条事件绑定\n",
    "def on_slider_change(change):\n",
    "    update_map(change[\"new\"])\n",
    "    label.value = f\"Date: {change['new']}, {datetime.strptime(change['new'], '%Y-%m-%d').strftime('%A')}\"\n",
    "    df = sale_with_coord[sale_with_coord[\"invoice date\"] == pd.to_datetime(change['new'])]\n",
    "    html_table.value = create_table_html(df)\n",
    "\n",
    "slider_21.observe(on_slider_change, names=\"value\")\n",
    "\n",
    "update_map(dates[0])  # init map\n",
    "\n",
    "VBox([slider, label, html_table, m])\n"
   ]
  },
  {
   "cell_type": "markdown",
   "id": "5493bf84-b6f5-4db4-b8d2-623421804eb8",
   "metadata": {},
   "source": [
    "#### Trend in daily sales"
   ]
  },
  {
   "cell_type": "code",
   "execution_count": null,
   "id": "377fbac9-76dd-4e92-9b96-4b2abd034019",
   "metadata": {},
   "outputs": [],
   "source": [
    "sale_wide = sale_date.pivot(index='invoice date', columns='shopping_mall', values='price')"
   ]
  },
  {
   "cell_type": "code",
   "execution_count": null,
   "id": "db2fab0d-cf7f-450b-9a24-25fefc99dc02",
   "metadata": {},
   "outputs": [],
   "source": [
    "sale_wide.index"
   ]
  },
  {
   "cell_type": "code",
   "execution_count": null,
   "id": "a9ef1c22-578d-46f7-8025-4464b5b14037",
   "metadata": {},
   "outputs": [],
   "source": [
    "import numpy as np\n",
    "import matplotlib.pyplot as plt\n",
    "from ipywidgets import FloatSlider, VBox, Output\n",
    "\n",
    "# 生成示例数据\n",
    "np.random.seed(42)\n",
    "x = np.linspace(0, 10, 100)\n",
    "y = np.sin(x) + np.random.normal(scale=0.5, size=x.shape)\n",
    "\n",
    "# 创建输出控件\n",
    "output_td = Output()\n",
    "\n",
    "# 滑动平均函数\n",
    "def moving_average(data, window_size):\n",
    "    return np.convolve(data, np.ones(window_size)/window_size, mode='valid')\n",
    "\n",
    "# 初始化滑块\n",
    "slider_td = FloatSlider(\n",
    "    value=5,\n",
    "    min=1,\n",
    "    max=60,\n",
    "    step=1,\n",
    "    description='Window Size:',\n",
    ")\n",
    "\n",
    "# 绘制函数\n",
    "def plot_smoothed(change):\n",
    "    window_size = int(slider_td.value)\n",
    "    \n",
    "    if window_size < 1:\n",
    "        return  # 窗口大小不能小于1\n",
    "\n",
    "    \n",
    "\n",
    "    # 清空之前的绘图\n",
    "    with output_td:\n",
    "        output_td.clear_output(wait=True)\n",
    "        fig, ax = plt.subplots(figsize=(12, 6))\n",
    "        for mall in sale_wide.columns:\n",
    "            \n",
    "            \n",
    "            smoothed_y = moving_average(sale_wide[mall], window_size)\n",
    "            #plt.plot(x, y, label='Original Data', alpha=0.5)\n",
    "            ax.plot(sale_wide.index[:len(smoothed_y)], smoothed_y, label=f'{mall}')\n",
    "        ax.set_title(\"Price vs Date (All Categories)\")\n",
    "        ax.set_xlabel(\"Date\")\n",
    "        ax.set_ylabel(\"Price\")\n",
    "        ax.legend(loc='center left', bbox_to_anchor=(1.0, 0.5))\n",
    "        ax.grid(True)\n",
    "        \n",
    "        plt.tight_layout()\n",
    "        plt.show()\n",
    "\n",
    "# 绑定滑块变化事件\n",
    "slider_td.observe(plot_smoothed, names='value')\n",
    "\n",
    "# 初始绘图\n",
    "plot_smoothed(None)\n",
    "\n",
    "# 显示控件\n",
    "VBox([slider_td, output_td])\n"
   ]
  },
  {
   "cell_type": "markdown",
   "id": "223eea0c-88eb-4467-9b22-31a19ddf6263",
   "metadata": {},
   "source": [
    "### 2.2 Hypotheses\n",
    "To achieve our objective, we propose conducting hypothesis testing regarding the following perspectives:\n",
    "\n",
    "#### Geographical Divergence\n",
    "$H_0$: All of the malls from different metropolitan areas were performing the same throughout the whole period?\\\n",
    "$H_a$: At least one of the malls from different metropolitan areas were performing differently throughout the whole period?\n",
    "\n",
    "#### Seasonality\n",
    "$H_0$: The behavior of consumption was invariant on different days (seasons, holidays, incidents) of a year?\\\n",
    "$H_a$: The behavior of consumption was not invariant on different days (seasons, holidays, incidents) of a year?\n",
    "\n",
    "#### Consumer Behavior\n",
    "$H_0$: The customers’ consumption is independent of demographic and economic attributes.\\\n",
    "$H_a$: The customers’ consumption is not independent of demographic and economic attributes.\n",
    "\n",
    "### 2.3 Data Manipulation and Visualization Techniques\n",
    "\n",
    "- Clean unreasonable and missing data. Ensure consistency in addressing categories for categorical variables.\n",
    "- Filter outliers. Take the logarithm of sales depending on normality.\n",
    "- Visualize daily sales trends over time across different malls in the Sales table using line charts.\n",
    "- Merge the Sales and Customer tables by customer_id and create pairwise scatter plots to visualize relationships between spending and explanation variables like the attributes of the mall and customer’s demographic factors.\n",
    "- Merge the Sales and Shopping Mall tables and, using geographic data, visualize sales figures on a California map in the form of heatmaps or other appropriate visualizations.\n",
    "\n",
    "### 2.4 Statistical Tests\n",
    "\n",
    "1.\tConduct a hypothesis test on the mean value of figures from shopping malls in different metropolitan areas. A possible approach is a two-sample t-test implemented by stats.ttest_ind.\n",
    "2.\tConduct a hypothesis test on sales for the same mall across different months or years. A possible approach is association tests implemented by stats.f_oneway.\n",
    "3.\tDevelop a predictive model for customer spending based on mall-specific information and customers’ demographic attributes. A possible approach is a linear regression model implemented by stats.lingress.\n",
    "\n",
    "### 2.3 Statistical Tests\n",
    "We would like to apply time series approaches to study the nature of the consumption data like stationarity and causal structure to gain a deeper understanding of the story lying behind."
   ]
  },
  {
   "cell_type": "code",
   "execution_count": null,
   "id": "16e29147-9a17-4ef8-b62b-557226de5db9",
   "metadata": {},
   "outputs": [],
   "source": []
  },
  {
   "cell_type": "markdown",
   "id": "5a1e67c5-6465-47d7-b682-7fe422d3d148",
   "metadata": {},
   "source": [
    "## 3. Results"
   ]
  },
  {
   "cell_type": "code",
   "execution_count": null,
   "id": "7f2b285c-9c9c-4036-8324-74ccd9e8cfc6",
   "metadata": {},
   "outputs": [],
   "source": []
  },
  {
   "cell_type": "code",
   "execution_count": null,
   "id": "cfcc9613",
   "metadata": {},
   "outputs": [],
   "source": []
  },
  {
   "cell_type": "code",
   "execution_count": null,
   "id": "560a6ff6",
   "metadata": {},
   "outputs": [],
   "source": []
  },
  {
   "cell_type": "code",
   "execution_count": null,
   "id": "a0cdf6a4",
   "metadata": {},
   "outputs": [],
   "source": []
  },
  {
   "cell_type": "code",
   "execution_count": null,
   "id": "552c54d8",
   "metadata": {},
   "outputs": [],
   "source": []
  },
  {
   "cell_type": "code",
   "execution_count": null,
   "id": "63d1de23",
   "metadata": {},
   "outputs": [],
   "source": []
  },
  {
   "cell_type": "markdown",
   "id": "fdca3d7e-1a72-482c-8662-434bd988378f",
   "metadata": {},
   "source": [
    "Visualize daily sales trends over time across different malls in the Sales table using line charts."
   ]
  },
  {
   "cell_type": "code",
   "execution_count": null,
   "id": "9e647fa8-fa20-4816-ad19-43666d93ea05",
   "metadata": {},
   "outputs": [],
   "source": [
    "# Make an explicit copy before modification to avoid the warning\n",
    "sales_data_without_outliers = sales_data_without_outliers.copy()\n",
    "# Convert the 'invoice_date' column to datetime\n",
    "sales_data_without_outliers.loc[:, 'invoice_date'] = pd.to_datetime(sales_data_without_outliers['invoice date'])\n",
    "\n",
    "# Group by mall and date\n",
    "daily_sales_quantity = (\n",
    "    sales_data_without_outliers.groupby(['shopping_mall', 'invoice_date'])\n",
    "    .agg(total_sales=('quantity', 'sum'))\n",
    "    .reset_index()\n",
    ")\n",
    "\n",
    "# Plot daily sales trends\n",
    "plt.figure(figsize=(16, 8))\n",
    "sns.lineplot(\n",
    "    data=daily_sales_quantity, \n",
    "    x='invoice_date', \n",
    "    y='total_sales', \n",
    "    hue='shopping_mall',\n",
    "    marker='o',\n",
    "    alpha=0.3\n",
    ")\n",
    "\n",
    "# Customize the plot\n",
    "plt.title('Daily Sales Quantities Across Different Malls', fontsize=16)\n",
    "plt.xlabel('Date', fontsize=14)\n",
    "plt.ylabel('Total Sales Quantities', fontsize=14)\n",
    "plt.xticks(rotation=45)\n",
    "plt.legend(title='Shopping Mall', fontsize=10)\n",
    "plt.grid(axis='y', linestyle='--', alpha=0.6)\n",
    "\n",
    "# Show the plot\n",
    "plt.tight_layout()\n",
    "plt.show()"
   ]
  },
  {
   "cell_type": "markdown",
   "id": "d6b2dc7e-6dec-4837-b0c9-e8c8d6aa540e",
   "metadata": {},
   "source": [
    "No obvisous trend, but Del Amo Fashion Center, South Coast Plaza, and Westfield Century City are tend to have more sales quantities throughout the years."
   ]
  },
  {
   "cell_type": "code",
   "execution_count": null,
   "id": "5f9544e1-8aa6-44b7-9bad-040de8e75c53",
   "metadata": {},
   "outputs": [],
   "source": []
  },
  {
   "cell_type": "code",
   "execution_count": null,
   "id": "b88290f9-c9f4-4fea-9c03-cb5c850f9a55",
   "metadata": {},
   "outputs": [],
   "source": []
  },
  {
   "cell_type": "markdown",
   "id": "36ec31f7-32f6-4679-95f4-aa00552bdafc",
   "metadata": {},
   "source": [
    "Merge the Sales and Customer tables by customer_id and create pairwise scatter plots to visualize relationships between spending and explanation variables like the attributes of the mall and customer’s demographic factors."
   ]
  },
  {
   "cell_type": "code",
   "execution_count": null,
   "id": "cfea6a5f-f7eb-45c4-bdc0-f6e4f8049889",
   "metadata": {},
   "outputs": [],
   "source": [
    "# Convert categorical variables directly on the copy with .loc\n",
    "sales_data_without_outliers = sales_data_without_outliers.copy() # Make an explicit copy to avoid warnings\n",
    "\n",
    "# Calculate total spending per transaction\n",
    "sales_data_without_outliers['spending'] = sales_data_without_outliers['quantity'] * sales_data_without_outliers['price']\n",
    "\n",
    "# Merge Sales and Customer tables on 'customer_id'\n",
    "merged_data = pd.merge(sales_data_without_outliers, customer_data, on='customer_id', how='inner')\n",
    "\n",
    "# Select columns and convert categorical variables directly\n",
    "scatter_data = merged_data[[\n",
    "    'spending',       # Target variable: spending\n",
    "    'age',            # Customer demographic\n",
    "    'gender',         # Customer demographic (categorical)\n",
    "    'payment_method', # Customer demographic (categorical)\n",
    "    'shopping_mall'   # Mall variable (categorical)\n",
    "]].copy()  # Explicitly create a copy to avoid the warning\n",
    "\n",
    "# Encoding categorical variables for visualization\n",
    "scatter_data.loc[:, 'gender'] = scatter_data['gender'].astype('category')\n",
    "scatter_data.loc[:, 'payment_method'] = scatter_data['payment_method'].astype('category')\n",
    "scatter_data.loc[:, 'shopping_mall'] = scatter_data['shopping_mall'].astype('category')\n",
    "\n",
    "# Visualize pairwise relationships\n",
    "sns.pairplot(\n",
    "    scatter_data,\n",
    "    diag_kind='kde',  # Kernel Density Estimation on diagonal\n",
    "    hue='gender',     # Color points by gender\n",
    "    palette='Set2',   # Color palette for clarity\n",
    ")\n",
    "\n",
    "# Customize the plot\n",
    "plt.suptitle(\"Pairwise Scatter Plots: Spending vs. Demographics and Mall Attributes\", y=1.02, fontsize=16)\n",
    "plt.show()"
   ]
  },
  {
   "cell_type": "code",
   "execution_count": null,
   "id": "18f4c6d8-ffa6-4522-9cf1-122a0b5c5144",
   "metadata": {},
   "outputs": [],
   "source": []
  },
  {
   "cell_type": "markdown",
   "id": "be855f14-5989-40d4-8d3b-ee4c0d18bee0",
   "metadata": {},
   "source": [
    "? Merge the Sales and Shopping Mall tables and, using geographic data, visualize sales figures on a California map in the form of heatmaps or other appropriate visualizations."
   ]
  },
  {
   "cell_type": "code",
   "execution_count": null,
   "id": "837e5586-e2ac-49fd-933d-124061ba751c",
   "metadata": {},
   "outputs": [],
   "source": [
    "# Merge Sales and Shopping Mall tables on 'shopping_mall'\n",
    "merged_data = pd.merge(sales_data_without_outliers, shopping_mall_data, on='shopping_mall', how='inner')\n",
    "\n",
    "# Aggregate total sales by shopping mall\n",
    "sales_by_mall = merged_data.groupby(['shopping_mall', 'location'])['spending'].sum().reset_index()\n",
    "\n",
    "# # Add approximate geographic coordinates for each location\n",
    "# mall_coordinates = {\n",
    "#     'San Francisco': [37.7749, -122.4194], # Replace with actual lat/lon\n",
    "#     'Los Angeles': [34.0522, -118.2437], # Replace with actual lat/lon\n",
    "#     'San Diego': [32.7157, -117.1611], # Replace with actual lat/lon\n",
    "#     # Add coordinates for other cities as needed\n",
    "# }.copy()\n",
    "\n",
    "# ..."
   ]
  },
  {
   "cell_type": "code",
   "execution_count": null,
   "id": "d4c8f4f6-c6da-4990-af45-586d7efcc2ca",
   "metadata": {},
   "outputs": [],
   "source": []
  },
  {
   "cell_type": "markdown",
   "id": "01aa3fd6-e77a-45e7-9252-1f8a52fa005c",
   "metadata": {},
   "source": [
    "Conduct a hypothesis test on the mean value of figures from shopping malls in different metropolitan areas."
   ]
  },
  {
   "cell_type": "code",
   "execution_count": null,
   "id": "d32d16eb-cb5e-4f8f-803c-43b8541783b7",
   "metadata": {},
   "outputs": [],
   "source": [
    "# Filter data for two metropolitan areas\n",
    "cm_sales = sales_by_mall[sales_by_mall['location'] == 'Costa Mesa']['spending']\n",
    "tor_sales = sales_by_mall[sales_by_mall['location'] == 'Torrance']['spending']\n",
    "\n",
    "# # Check for normality\n",
    "# _, cm_pvalue_normality = stats.shapiro(cm_sales)\n",
    "# _, tor_pvalue_normality = stats.shapiro(tor_sales)\n",
    "\n",
    "# print(f\"Costa Mesa sales normality test p-value: {cm_pvalue_normality}\")\n",
    "# print(f\"Torrance sales normality test p-value: {tor_pvalue_normality}\")\n",
    "\n",
    "# # Check for equal variances\n",
    "# _, pvalue_var_equal = stats.levene(cm_sales, tor_sales)\n",
    "# print(f\"Levene's test p-value for equal variance: {pvalue_var_equal}\")\n",
    "\n",
    "# # Perform the two-sample t-test\n",
    "# equal_var = pvalue_var_equal > 0.05  # Assume equal variance if Levene's test p-value > 0.05\n",
    "# t_stat, p_value = stats.ttest_ind(cm_sales, tor_sales, equal_var=equal_var)\n",
    "\n",
    "# print(\"\\nT-Test Results:\")\n",
    "# print(f\"t-statistic: {t_stat}\")\n",
    "# print(f\"p-value: {p_value}\")\n",
    "\n",
    "# # Interpretation\n",
    "# alpha = 0.05\n",
    "# if p_value < alpha:\n",
    "#     print(\"Reject the null hypothesis: There is a significant difference in mean sales figures.\")\n",
    "# else:\n",
    "#     print(\"Fail to reject the null hypothesis: No significant difference in mean sales figures.\")"
   ]
  },
  {
   "cell_type": "code",
   "execution_count": null,
   "id": "6aa7c3c4-d876-40f2-bac2-7788ca6e9261",
   "metadata": {},
   "outputs": [],
   "source": []
  },
  {
   "cell_type": "markdown",
   "id": "e1cc99b3-76b4-428c-b3ba-81bf973ff48a",
   "metadata": {},
   "source": [
    "Conduct a hypothesis test on sales for the same mall across different months or years. A possible approach is association tests implemented by stats.f_oneway."
   ]
  },
  {
   "cell_type": "code",
   "execution_count": null,
   "id": "699dbbde-c14a-4fb1-a9e6-12cd426feee3",
   "metadata": {},
   "outputs": [],
   "source": []
  },
  {
   "cell_type": "markdown",
   "id": "23105fc7-8bc6-4aad-8864-a0f1ede7b67a",
   "metadata": {},
   "source": [
    "Develop a predictive model for customer spending based on mall-specific information and customers’ demographic attributes. A possible approach is a linear regression model implemented by stats.lingress."
   ]
  },
  {
   "cell_type": "code",
   "execution_count": null,
   "id": "ebd03e16-1218-4811-9941-053191d03bf3",
   "metadata": {},
   "outputs": [],
   "source": []
  },
  {
   "cell_type": "markdown",
   "id": "b0249338-1340-4389-b328-23f8e3d906bf",
   "metadata": {},
   "source": [
    "## 4. Discussions and Conclusions"
   ]
  },
  {
   "cell_type": "code",
   "execution_count": null,
   "id": "7f40c0ac-b32d-4503-9d8f-27709f6a92d0",
   "metadata": {},
   "outputs": [],
   "source": []
  },
  {
   "cell_type": "markdown",
   "id": "acbcbeff-b160-4a11-9476-67e5e7ae799d",
   "metadata": {},
   "source": [
    "## References"
   ]
  },
  {
   "cell_type": "code",
   "execution_count": null,
   "id": "7a6a9b20-6e5d-4da0-9875-7c87852a98a6",
   "metadata": {},
   "outputs": [],
   "source": []
  },
  {
   "cell_type": "code",
   "execution_count": null,
   "id": "0c32602f-b497-4d58-96a8-863de492905c",
   "metadata": {},
   "outputs": [],
   "source": []
  },
  {
   "cell_type": "code",
   "execution_count": null,
   "id": "73cfd9f2-d6e1-49fd-99b0-02275c21a276",
   "metadata": {},
   "outputs": [],
   "source": []
  },
  {
   "cell_type": "code",
   "execution_count": null,
   "id": "ded9e47b-b08e-4fb4-91f9-453b8b2ab821",
   "metadata": {},
   "outputs": [],
   "source": []
  },
  {
   "cell_type": "code",
   "execution_count": null,
   "id": "09db9673-d17a-4dd0-8228-c142ee59df60",
   "metadata": {},
   "outputs": [],
   "source": []
  },
  {
   "cell_type": "code",
   "execution_count": null,
   "id": "a8580dc2-f3a4-4944-b22f-2c39f7439406",
   "metadata": {},
   "outputs": [],
   "source": []
  },
  {
   "cell_type": "code",
   "execution_count": null,
   "id": "86944559",
   "metadata": {},
   "outputs": [],
   "source": []
  },
  {
   "cell_type": "code",
   "execution_count": null,
   "id": "3948fcbf-b19e-4b16-97b8-c0a0f5e61962",
   "metadata": {},
   "outputs": [],
   "source": []
  }
 ],
 "metadata": {
  "language_info": {
   "name": "python"
  }
 },
 "nbformat": 4,
 "nbformat_minor": 5
}
