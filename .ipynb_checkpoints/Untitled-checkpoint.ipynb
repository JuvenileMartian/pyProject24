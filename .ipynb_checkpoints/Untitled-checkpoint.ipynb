{
 "cells": [
  {
   "cell_type": "code",
   "execution_count": 2,
   "id": "897ecaa7-df07-43f8-af81-81e11b171670",
   "metadata": {},
   "outputs": [
    {
     "data": {
      "application/vnd.jupyter.widget-view+json": {
       "model_id": "0eef4bfdcbf143cb807e02449c43419d",
       "version_major": 2,
       "version_minor": 0
      },
      "text/plain": [
       "VBox(children=(Map(center=[37.7749, -122.4194], controls=(ZoomControl(options=['position', 'zoom_in_text', 'zo…"
      ]
     },
     "execution_count": 2,
     "metadata": {},
     "output_type": "execute_result"
    }
   ],
   "source": [
    "from ipyleaflet import Map, Circle\n",
    "from ipywidgets import FloatSlider, VBox\n",
    "\n",
    "# 创建地图\n",
    "center = (37.7749, -122.4194)  # 旧金山\n",
    "m = Map(center=center, zoom=12)\n",
    "\n",
    "# 创建圆形\n",
    "circle = Circle(\n",
    "    location=center,\n",
    "    radius=500,  # 初始半径\n",
    "    color=\"blue\",\n",
    "    fill_color=\"blue\",\n",
    ")\n",
    "m.add_layer(circle)\n",
    "\n",
    "# 创建滑块\n",
    "slider = FloatSlider(\n",
    "    value=500,\n",
    "    min=100,\n",
    "    max=2000,\n",
    "    step=50,\n",
    "    description='Radius:',\n",
    ")\n",
    "\n",
    "# 定义滑块事件函数\n",
    "def on_slider_change(change):\n",
    "    circle.radius = int(change['new'])  # 动态更新圆形半径\n",
    "\n",
    "slider.observe(on_slider_change, names='value')\n",
    "\n",
    "# 显示地图和滑块\n",
    "VBox([m, slider])"
   ]
  },
  {
   "cell_type": "code",
   "execution_count": null,
   "id": "731aa53f-d5e2-4373-8785-598f787c4a18",
   "metadata": {},
   "outputs": [],
   "source": []
  }
 ],
 "metadata": {
  "kernelspec": {
   "display_name": "Python 3 (ipykernel)",
   "language": "python",
   "name": "python3"
  },
  "language_info": {
   "codemirror_mode": {
    "name": "ipython",
    "version": 3
   },
   "file_extension": ".py",
   "mimetype": "text/x-python",
   "name": "python",
   "nbconvert_exporter": "python",
   "pygments_lexer": "ipython3",
   "version": "3.11.7"
  }
 },
 "nbformat": 4,
 "nbformat_minor": 5
}
