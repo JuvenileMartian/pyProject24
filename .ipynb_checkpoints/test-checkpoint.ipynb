{
 "cells": [
  {
   "cell_type": "code",
   "execution_count": 41,
   "id": "936d9bc4-4c57-4356-a302-078661257b85",
   "metadata": {},
   "outputs": [],
   "source": [
    "import pandas as pd\n",
    "import numpy as np\n",
    "from matplotlib import pyplot as plt\n",
    "import seaborn as sns\n",
    "# import folium\n",
    "# from folium.plugins import HeatMap\n",
    "from scipy import stats\n",
    "from ipyleaflet import Map, Marker, CircleMarker\n",
    "from ipywidgets import SelectionSlider, VBox, interact\n",
    "import pandas as pd\n",
    "\n",
    "# Loading the datasets\n",
    "sales_data = pd.read_csv('data/sales_data.csv')\n",
    "customer_data = pd.read_csv('data/customer_data.csv')\n",
    "shopping_mall_data = pd.read_csv('data/shopping_mall_data.csv')"
   ]
  },
  {
   "cell_type": "code",
   "execution_count": 46,
   "id": "83cba1e3-90cd-452e-89f2-d8e414d69882",
   "metadata": {},
   "outputs": [
    {
     "data": {
      "application/vnd.jupyter.widget-view+json": {
       "model_id": "394895b385fc48d9b311c83dec10aaf4",
       "version_major": 2,
       "version_minor": 0
      },
      "text/plain": [
       "VBox(children=(SelectionSlider(description='Date:', options=('2021-01-01', '2021-01-02', '2021-01-03', '2021-0…"
      ]
     },
     "execution_count": 46,
     "metadata": {},
     "output_type": "execute_result"
    }
   ],
   "source": [
    "sales_data[\"invoice date\"] = pd.to_datetime(sales_data[\"invoice date\"])\n",
    "sale_date = sales_data.groupby([\"shopping_mall\", \"invoice date\"], as_index=False)[\"price\"].sum()\n",
    "sale_with_coord = pd.merge(sale_date, shopping_mall_data, how='left', on='shopping_mall')[['shopping_mall', 'invoice date', 'price', 'lon', 'lat']]\n",
    "\n",
    "# 提取所有日期\n",
    "dates = sorted(sale_with_coord[\"invoice date\"].dt.strftime(\"%Y-%m-%d\").unique())\n",
    "\n",
    "# 获取每个x的经纬度\n",
    "locations = sale_with_coord.groupby('shopping_mall')[[\"lat\", \"lon\"]].first().reset_index()\n",
    "\n",
    "# 创建地图\n",
    "m = Map(center=(36.7783, -119.4179), zoom=6)\n",
    "\n",
    "# 创建滑动条\n",
    "slider = SelectionSlider(\n",
    "    options=dates,\n",
    "    value=dates[0],\n",
    "    description=\"Date:\",\n",
    "    continuous_update=True\n",
    ")\n",
    "\n",
    "# 创建动态更新函数\n",
    "circles = {}  # 用于存储地图上的 CircleMarker 对象\n",
    "\n",
    "def update_map(selected_date):\n",
    "    # 清理旧的 CircleMarker\n",
    "    for circle in circles.values():\n",
    "        m.remove_layer(circle)\n",
    "    circles.clear()\n",
    "    \n",
    "    # 获取选中日期的汇总数据\n",
    "    current_data = sale_with_coord[sale_with_coord[\"invoice date\"] == pd.to_datetime(selected_date)]\n",
    "    for _, row in current_data.iterrows():\n",
    "        x = row[\"shopping_mall\"]\n",
    "        z_value = row[\"price\"]\n",
    "        loc = locations[locations[\"shopping_mall\"] == x]\n",
    "        latitude = loc[\"lat\"].values[0]\n",
    "        longitude = loc[\"lon\"].values[0]\n",
    "\n",
    "        # 创建 CircleMarker\n",
    "        circle = CircleMarker(\n",
    "            location=(latitude, longitude),\n",
    "            radius=int(z_value / 1000),  # 根据z值调整圆的大小\n",
    "            color=\"blue\",\n",
    "            fill_color=\"blue\",\n",
    "            fill_opacity=0.7,\n",
    "            #popup=f\"{x}: {z_value}\"\n",
    "        )\n",
    "        circles[x] = circle\n",
    "        m.add_layer(circle)\n",
    "\n",
    "# 滑动条事件绑定\n",
    "def on_slider_change(change):\n",
    "    update_map(change[\"new\"])\n",
    "\n",
    "slider.observe(on_slider_change, names=\"value\")\n",
    "\n",
    "# 显示初始地图和滑动条\n",
    "update_map(dates[0])  # 初始化地图\n",
    "\n",
    "# interact(lambda index: update_map(index), index=slider)\n",
    "VBox([slider, m])\n"
   ]
  },
  {
   "cell_type": "code",
   "execution_count": null,
   "id": "d282c325-305d-4568-9bab-9cc063a5f160",
   "metadata": {},
   "outputs": [],
   "source": []
  }
 ],
 "metadata": {
  "kernelspec": {
   "display_name": "Python 3 (ipykernel)",
   "language": "python",
   "name": "python3"
  },
  "language_info": {
   "codemirror_mode": {
    "name": "ipython",
    "version": 3
   },
   "file_extension": ".py",
   "mimetype": "text/x-python",
   "name": "python",
   "nbconvert_exporter": "python",
   "pygments_lexer": "ipython3",
   "version": "3.11.7"
  }
 },
 "nbformat": 4,
 "nbformat_minor": 5
}
