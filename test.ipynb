{
 "cells": [
  {
   "cell_type": "code",
   "execution_count": 1,
   "id": "936d9bc4-4c57-4356-a302-078661257b85",
   "metadata": {},
   "outputs": [],
   "source": [
    "import pandas as pd\n",
    "import numpy as np\n",
    "from matplotlib import pyplot as plt\n",
    "import seaborn as sns\n",
    "# import folium\n",
    "# from folium.plugins import HeatMap\n",
    "from scipy import stats\n",
    "from ipyleaflet import Map, Marker, CircleMarker\n",
    "from ipywidgets import SelectionSlider, VBox, interact\n",
    "import pandas as pd\n",
    "\n",
    "# Loading the datasets\n",
    "sales_data = pd.read_csv('data/sales_data.csv')\n",
    "customer_data = pd.read_csv('data/customer_data.csv')\n",
    "shopping_mall_data = pd.read_csv('data/shopping_mall_data.csv')"
   ]
  },
  {
   "cell_type": "code",
   "execution_count": 2,
   "id": "83cba1e3-90cd-452e-89f2-d8e414d69882",
   "metadata": {},
   "outputs": [
    {
     "data": {
      "application/vnd.jupyter.widget-view+json": {
       "model_id": "97069fce01be42f78d75e918b60cbe21",
       "version_major": 2,
       "version_minor": 0
      },
      "text/plain": [
       "VBox(children=(IntSlider(value=3, description='Window Size:', max=7, min=1), Output()))"
      ]
     },
     "execution_count": 2,
     "metadata": {},
     "output_type": "execute_result"
    }
   ],
   "source": [
    "import pandas as pd\n",
    "import numpy as np\n",
    "import matplotlib.pyplot as plt\n",
    "from ipywidgets import IntSlider, VBox, Output\n",
    "\n",
    "# 示例数据\n",
    "data = {\n",
    "    \"x\": [\"A\", \"A\", \"A\", \"B\", \"B\", \"B\", \"C\", \"C\", \"C\"],\n",
    "    \"date\": pd.date_range(start=\"2021-01-01\", periods=9),\n",
    "    \"price\": [100, 110, 105, 200, 190, 195, 300, 310, 305]\n",
    "}\n",
    "df = pd.DataFrame(data)\n",
    "\n",
    "# 输出控件\n",
    "output = Output()\n",
    "\n",
    "# 滑动平均函数\n",
    "def moving_average(data, window_size):\n",
    "    return data.rolling(window=window_size, center=True).mean()\n",
    "\n",
    "# 绘制函数\n",
    "def plot_all_categories(window_size):\n",
    "    with output:\n",
    "        output.clear_output(wait=True)\n",
    "        \n",
    "        fig, ax = plt.subplots(figsize=(12, 6))\n",
    "        \n",
    "        categories = df[\"x\"].unique()\n",
    "        for category in categories:\n",
    "            data_cat = df[df[\"x\"] == category]\n",
    "            data_cat = data_cat.sort_values(\"date\")  # 确保按日期排序\n",
    "            \n",
    "            # 原始价格\n",
    "            ax.plot(data_cat[\"date\"], data_cat[\"price\"], label=f\"{category} - Original\", alpha=0.5)\n",
    "            \n",
    "            # 滑动平均价格\n",
    "            smoothed_price = moving_average(data_cat[\"price\"], window_size)\n",
    "            ax.plot(data_cat[\"date\"], smoothed_price, label=f\"{category} - Smoothed (window={window_size})\")\n",
    "        \n",
    "        ax.set_title(\"Price vs Date (All Categories)\")\n",
    "        ax.set_xlabel(\"Date\")\n",
    "        ax.set_ylabel(\"Price\")\n",
    "        ax.legend()\n",
    "        ax.grid(True)\n",
    "        \n",
    "        plt.tight_layout()\n",
    "        plt.show()\n",
    "\n",
    "# 滑块\n",
    "slider = IntSlider(\n",
    "    value=3,\n",
    "    min=1,\n",
    "    max=7,\n",
    "    step=1,\n",
    "    description=\"Window Size:\"\n",
    ")\n",
    "\n",
    "# 滑块绑定事件\n",
    "def on_slider_change(change):\n",
    "    plot_all_categories(change[\"new\"])\n",
    "\n",
    "slider.observe(on_slider_change, names=\"value\")\n",
    "\n",
    "# 初始化绘图\n",
    "plot_all_categories(slider.value)\n",
    "\n",
    "# 显示控件\n",
    "VBox([slider, output])\n"
   ]
  },
  {
   "cell_type": "code",
   "execution_count": null,
   "id": "d282c325-305d-4568-9bab-9cc063a5f160",
   "metadata": {},
   "outputs": [],
   "source": []
  }
 ],
 "metadata": {
  "kernelspec": {
   "display_name": "Python 3 (ipykernel)",
   "language": "python",
   "name": "python3"
  },
  "language_info": {
   "codemirror_mode": {
    "name": "ipython",
    "version": 3
   },
   "file_extension": ".py",
   "mimetype": "text/x-python",
   "name": "python",
   "nbconvert_exporter": "python",
   "pygments_lexer": "ipython3",
   "version": "3.11.7"
  }
 },
 "nbformat": 4,
 "nbformat_minor": 5
}
